{
 "cells": [
  {
   "cell_type": "code",
   "execution_count": 5,
   "id": "18e1a056",
   "metadata": {},
   "outputs": [],
   "source": [
    "from deepface import DeepFace as dfc\n",
    "from deepface import DeepFace\n",
    "from retinaface import RetinaFace\n",
    "import matplotlib.pyplot as plt\n",
    "import cv2\n",
    "import sys\n",
    "# from moviepy.editor import VideoFileClip\n",
    "from moviepy.video.io.VideoFileClip import VideoFileClip"
   ]
  },
  {
   "cell_type": "code",
   "execution_count": 6,
   "id": "0655aa39",
   "metadata": {},
   "outputs": [],
   "source": [
    "# Compare one image to another.\n",
    "\n",
    "verification = dfc.verify(img1_path = \"aa.jpg\", img2_path = \"he.jpg\", enforce_detection = False)"
   ]
  },
  {
   "cell_type": "code",
   "execution_count": 7,
   "id": "ef299ad0",
   "metadata": {},
   "outputs": [
    {
     "name": "stdout",
     "output_type": "stream",
     "text": [
      "{'verified': False, 'distance': 0.4514450189855428, 'max_threshold_to_verify': 0.4, 'model': 'VGG-Face', 'similarity_metric': 'cosine'}\n"
     ]
    }
   ],
   "source": [
    "print(verification)"
   ]
  },
  {
   "cell_type": "code",
   "execution_count": 8,
   "id": "2ede58da",
   "metadata": {},
   "outputs": [
    {
     "data": {
      "text/plain": [
       "False"
      ]
     },
     "execution_count": 8,
     "metadata": {},
     "output_type": "execute_result"
    }
   ],
   "source": [
    "verification['verified']"
   ]
  },
  {
   "cell_type": "code",
   "execution_count": null,
   "id": "783e6fc9",
   "metadata": {},
   "outputs": [],
   "source": []
  },
  {
   "cell_type": "code",
   "execution_count": 9,
   "id": "22f645e2",
   "metadata": {},
   "outputs": [
    {
     "name": "stdout",
     "output_type": "stream",
     "text": [
      "WARNING: Representations for images in  facial_db  folder were previously stored in  representations_openface.pkl . If you added new instances after this file creation, then please delete this file and call find function again. It will create it again.\n",
      "There are  12  representations found in  representations_openface.pkl\n",
      "find function lasts  2.603513240814209  seconds\n"
     ]
    }
   ],
   "source": [
    "# Compare one image to many\n",
    "# Find how many images in our database is of the same person\n",
    "\n",
    "recognition = dfc.find(img_path = \"aa.jpg\", db_path = 'facial_db', model_name= \"OpenFace\",distance_metric='euclidean_l2' , enforce_detection = False)"
   ]
  },
  {
   "cell_type": "code",
   "execution_count": 10,
   "id": "84224f08",
   "metadata": {},
   "outputs": [
    {
     "name": "stdout",
     "output_type": "stream",
     "text": [
      "           identity  OpenFace_euclidean_l2\n",
      "0  facial_db/aa.jpg                    0.0\n"
     ]
    }
   ],
   "source": [
    "print(recognition)"
   ]
  },
  {
   "cell_type": "code",
   "execution_count": 11,
   "id": "943d6b05",
   "metadata": {},
   "outputs": [
    {
     "data": {
      "text/plain": [
       "1"
      ]
     },
     "execution_count": 11,
     "metadata": {},
     "output_type": "execute_result"
    }
   ],
   "source": [
    "recognition.shape[0]"
   ]
  },
  {
   "cell_type": "code",
   "execution_count": 12,
   "id": "1a50f99f",
   "metadata": {},
   "outputs": [
    {
     "name": "stderr",
     "output_type": "stream",
     "text": [
      "Action: race: 100%|██████████████████████████████████████████████████████████████████████| 4/4 [00:02<00:00,  1.59it/s]"
     ]
    },
    {
     "name": "stdout",
     "output_type": "stream",
     "text": [
      "{'age': 39, 'region': {'x': 629, 'y': 95, 'w': 438, 'h': 438}, 'gender': 'Man', 'emotion': {'angry': 0.0032818988984217867, 'disgust': 1.5824858784485585e-10, 'fear': 4.6278788090603484e-05, 'happy': 98.6477255821228, 'sad': 0.01688048942014575, 'surprise': 2.3841462848395167e-05, 'neutral': 1.3320459052920341}, 'dominant_emotion': 'happy', 'race': {'asian': 4.1030065629776846e-10, 'indian': 4.840239875569807e-08, 'black': 3.618810708993364e-11, 'white': 99.98990297317505, 'middle eastern': 0.008241998875746503, 'latino hispanic': 0.0018571601685835049}, 'dominant_race': 'white'}\n"
     ]
    },
    {
     "name": "stderr",
     "output_type": "stream",
     "text": [
      "\n"
     ]
    }
   ],
   "source": [
    "# Facial Analysis\n",
    "\n",
    "analysis = DeepFace.analyze(img_path = \"aa.jpg\", actions = [\"age\", \"gender\", \"emotion\", \"race\"])\n",
    "print(analysis)"
   ]
  },
  {
   "cell_type": "code",
   "execution_count": 15,
   "id": "755677e2",
   "metadata": {
    "scrolled": true
   },
   "outputs": [
    {
     "name": "stdout",
     "output_type": "stream",
     "text": [
      "Detector backend is  opencv\n",
      "Facenet  is built\n",
      "Emotion model loaded\n",
      "Age model loaded\n",
      "Gender model loaded\n",
      "Facial attibute analysis models loaded in  0.0  seconds\n"
     ]
    },
    {
     "name": "stderr",
     "output_type": "stream",
     "text": [
      "Finding embedding for Simon (5).jpg: 100%|█████████████████████████████████████████████| 19/19 [00:07<00:00,  2.46it/s]\n"
     ]
    },
    {
     "name": "stdout",
     "output_type": "stream",
     "text": [
      "Embeddings found for given data set in  7.737412452697754  seconds\n"
     ]
    }
   ],
   "source": [
    "DeepFace.stream(source = \"Simon Baker.MP4\", db_path = \"facial_db\", model_name = \"Facenet\", distance_metric = \"euclidean_l2\")"
   ]
  },
  {
   "cell_type": "code",
   "execution_count": null,
   "id": "459c090d",
   "metadata": {},
   "outputs": [],
   "source": [
    "# import cv2\n",
    "# import time\n",
    "# import math\n",
    "# import os\n",
    "# import numpy as np\n",
    "\n",
    "# start = time.time()\n",
    " \n",
    "# # Opens the Video file\n",
    "# cap= cv2.VideoCapture('Simon Baker.mp4')\n",
    "# i=0\n",
    "# recog = 0\n",
    "# start= time.time()\n",
    "\n",
    "# while(cap.isOpened() and i <= int(cap.get(cv2.CAP_PROP_FRAME_COUNT))):\n",
    "#     ret, frame = cap.read()\n",
    "#     if ret == False:\n",
    "#         break\n",
    "    \n",
    "#     while(math.floor(time.time()) % 10 == 0):\n",
    "        \n",
    "#         cv2.imwrite('kang.jpg',frame)\n",
    "#         recognition = dfc.find(img_path = 'kang.jpg', db_path = 'facial_db', enforce_detection = False)\n",
    "#         print(recognition)\n",
    "#         if(recognition.shape[0] > 0):\n",
    "#             recog += 1\n",
    "#             cv2.imwrite('kang'+str(i)+'.jpg',frame)\n",
    "        \n",
    "#         image = cv2.imread(\"a.jpg\")\n",
    "#         gray = cv2.cvtColor(image, cv2.COLOR_BGR2GRAY)\n",
    "\n",
    "#         faceCascade = cv2.CascadeClassifier(cv2.data.haarcascades + \"haarcascade_frontalface_default.xml\")\n",
    "#         faces = faceCascade.detectMultiScale(\n",
    "#         gray,\n",
    "#         scaleFactor=1.3,\n",
    "#         minNeighbors=3,\n",
    "#         minSize=(30, 30))\n",
    "\n",
    "#         print(\"Number of faces\", len(faces))\n",
    "#         if(len(faces) > 1):\n",
    "#             print(\"Multiple Faces Found.\")\n",
    "#             break\n",
    "        \n",
    "#         os.remove('kang.jpg')\n",
    "#     recognition = np.nan\n",
    "#     i+=1\n",
    "# print(time.time() - start)\n",
    "\n",
    "# if(recog == 0):\n",
    "#     print(\"Candidate either had not attended the Test Properly. Or their might be some technical Issue\")\n",
    "    \n",
    "\n",
    "    \n",
    "# cap.release()\n",
    "# cv2.destroyAllWindows()"
   ]
  },
  {
   "cell_type": "code",
   "execution_count": null,
   "id": "712fa202",
   "metadata": {},
   "outputs": [],
   "source": [
    "# start = time.time()\n",
    "# imagePath = \n",
    "\n",
    "# image = cv2.imread(\"a.jpg\")\n",
    "# gray = cv2.cvtColor(image, cv2.COLOR_BGR2GRAY)\n",
    "\n",
    "# faceCascade = cv2.CascadeClassifier(cv2.data.haarcascades + \"haarcascade_frontalface_default.xml\")\n",
    "# faces = faceCascade.detectMultiScale(\n",
    "#     gray,\n",
    "#     scaleFactor=1.3,\n",
    "#     minNeighbors=3,\n",
    "#     minSize=(30, 30)\n",
    "# )\n",
    "\n",
    "# print(\"There are \", len(faces), \" faces in the image\")\n",
    "# print(start-time.time())\n"
   ]
  },
  {
   "cell_type": "code",
   "execution_count": null,
   "id": "5348a3fc",
   "metadata": {},
   "outputs": [],
   "source": [
    "\n",
    "\n",
    "\n",
    "# print(\"[INFO] Found {0} Faces!\".format(len(faces)))\n",
    "\n",
    "# for (x, y, w, h) in faces:\n",
    "#     cv2.rectangle(image, (x, y), (x + w, y + h), (0, 255, 0), 2)\n",
    "\n",
    "# status = cv2.imwrite('faces_detected.jpg', image)\n",
    "# print(\"[INFO] Image faces_detected.jpg written to filesystem: \", status)"
   ]
  },
  {
   "cell_type": "code",
   "execution_count": null,
   "id": "22e2934a",
   "metadata": {},
   "outputs": [],
   "source": [
    "cap = cv2.VideoCapture(\"WEF.mp4\")\n",
    "duration = cap.get(cv2.CAP_PROP_POS_MSEC)\n",
    "length = cap.get(cv2.CAP_PROP_FRAME_COUNT)\n",
    "\n",
    "length\n",
    "duration\n",
    "\n",
    "\n"
   ]
  },
  {
   "cell_type": "code",
   "execution_count": null,
   "id": "7096cee5",
   "metadata": {},
   "outputs": [],
   "source": [
    "# # Importing Needed Libraries\n",
    "\n",
    "# import cv2\n",
    "# import time\n",
    "# import math\n",
    "# import os\n",
    "# import numpy as np\n",
    "\n",
    "\n",
    "# # Setting Up Time\n",
    "# start = time.time()\n",
    " \n",
    "# # Opens the Video file\n",
    "# cap= cv2.VideoCapture('WEF.mp4')\n",
    "# length = int(cap.get(cv2.CAP_PROP_FRAME_COUNT))\n",
    "# i=50\n",
    "# recog = 0\n",
    "# start= time.time()\n",
    "# fps = cap.get(cv2.CAP_PROP_FPS)\n",
    "\n",
    "# img1 = \"pp.jpg\"\n",
    "# img2 = \"\"\n",
    "\n",
    "\n",
    "\n",
    "\n",
    "\n",
    "# cap= cv2.VideoCapture('Simon Baker.mp4')\n",
    "# i=0\n",
    "# while(cap.isOpened()):\n",
    "#     cap.set(1, i)\n",
    "#     ret, frame = cap.read()\n",
    "#     if ret == False:\n",
    "#         break\n",
    "#     cv2.imwrite('Stored Frames\\\\kang'+str(i)+'.jpg',frame)\n",
    "#     i+=50\n",
    " \n",
    "# cap.release()\n",
    "# cv2.destroyAllWindows()"
   ]
  },
  {
   "cell_type": "code",
   "execution_count": 20,
   "id": "f505b2b3",
   "metadata": {},
   "outputs": [
    {
     "name": "stdout",
     "output_type": "stream",
     "text": [
      "WARNING: Representations for images in  facial_db  folder were previously stored in  representations_vgg_face.pkl . If you added new instances after this file creation, then please delete this file and call find function again. It will create it again.\n",
      "There are  11  representations found in  representations_vgg_face.pkl\n",
      "find function lasts  0.647463321685791  seconds\n",
      "\n",
      "Number of faces 2\n",
      "WARNING: Representations for images in  facial_db  folder were previously stored in  representations_vgg_face.pkl . If you added new instances after this file creation, then please delete this file and call find function again. It will create it again.\n",
      "There are  11  representations found in  representations_vgg_face.pkl\n",
      "find function lasts  0.7188808917999268  seconds\n",
      "Number of faces 3\n",
      "WARNING: Representations for images in  facial_db  folder were previously stored in  representations_vgg_face.pkl . If you added new instances after this file creation, then please delete this file and call find function again. It will create it again.\n",
      "There are  11  representations found in  representations_vgg_face.pkl\n",
      "find function lasts  0.7604658603668213  seconds\n",
      "\n",
      "Number of faces 4\n",
      "WARNING: Representations for images in  facial_db  folder were previously stored in  representations_vgg_face.pkl . If you added new instances after this file creation, then please delete this file and call find function again. It will create it again.\n",
      "There are  11  representations found in  representations_vgg_face.pkl\n",
      "find function lasts  0.87111496925354  seconds\n",
      "\n",
      "Number of faces 4\n",
      "WARNING: Representations for images in  facial_db  folder were previously stored in  representations_vgg_face.pkl . If you added new instances after this file creation, then please delete this file and call find function again. It will create it again.\n",
      "There are  11  representations found in  representations_vgg_face.pkl\n",
      "find function lasts  0.6654491424560547  seconds\n",
      "\n",
      "Number of faces 1\n",
      "WARNING: Representations for images in  facial_db  folder were previously stored in  representations_vgg_face.pkl . If you added new instances after this file creation, then please delete this file and call find function again. It will create it again.\n",
      "There are  11  representations found in  representations_vgg_face.pkl\n",
      "find function lasts  0.7805047035217285  seconds\n",
      "Number of faces 6\n",
      "WARNING: Representations for images in  facial_db  folder were previously stored in  representations_vgg_face.pkl . If you added new instances after this file creation, then please delete this file and call find function again. It will create it again.\n",
      "There are  11  representations found in  representations_vgg_face.pkl\n",
      "find function lasts  0.6362142562866211  seconds\n",
      "Number of faces 1\n",
      "WARNING: Representations for images in  facial_db  folder were previously stored in  representations_vgg_face.pkl . If you added new instances after this file creation, then please delete this file and call find function again. It will create it again.\n",
      "There are  11  representations found in  representations_vgg_face.pkl\n",
      "find function lasts  0.8383150100708008  seconds\n",
      "\n",
      "Number of faces 4\n",
      "WARNING: Representations for images in  facial_db  folder were previously stored in  representations_vgg_face.pkl . If you added new instances after this file creation, then please delete this file and call find function again. It will create it again.\n",
      "There are  11  representations found in  representations_vgg_face.pkl\n",
      "find function lasts  0.8124427795410156  seconds\n",
      "\n",
      "Number of faces 4\n",
      "WARNING: Representations for images in  facial_db  folder were previously stored in  representations_vgg_face.pkl . If you added new instances after this file creation, then please delete this file and call find function again. It will create it again.\n",
      "There are  11  representations found in  representations_vgg_face.pkl\n",
      "find function lasts  0.8254930973052979  seconds\n",
      "Number of faces 4\n",
      "WARNING: Representations for images in  facial_db  folder were previously stored in  representations_vgg_face.pkl . If you added new instances after this file creation, then please delete this file and call find function again. It will create it again.\n",
      "There are  11  representations found in  representations_vgg_face.pkl\n",
      "find function lasts  0.6865127086639404  seconds\n",
      "Number of faces 1\n",
      "WARNING: Representations for images in  facial_db  folder were previously stored in  representations_vgg_face.pkl . If you added new instances after this file creation, then please delete this file and call find function again. It will create it again.\n",
      "There are  11  representations found in  representations_vgg_face.pkl\n",
      "find function lasts  0.7655761241912842  seconds\n",
      "\n",
      "Number of faces 2\n",
      "WARNING: Representations for images in  facial_db  folder were previously stored in  representations_vgg_face.pkl . If you added new instances after this file creation, then please delete this file and call find function again. It will create it again.\n",
      "There are  11  representations found in  representations_vgg_face.pkl\n",
      "find function lasts  1.01346755027771  seconds\n",
      "Number of faces 0\n",
      "Candidate either had not attended the Test Properly. Or their might be some technical Issue\n",
      "-33.58264875411987\n"
     ]
    }
   ],
   "source": [
    "# Importing Needed Libraries\n",
    "\n",
    "import cv2\n",
    "import time\n",
    "import math\n",
    "import os\n",
    "import numpy as np\n",
    "\n",
    "\n",
    "# Setting Up Time\n",
    "start = time.time()\n",
    " \n",
    "# Opens the Video file\n",
    "cap= cv2.VideoCapture('WEF.mp4')\n",
    "length = int(cap.get(cv2.CAP_PROP_FRAME_COUNT))\n",
    "i=50\n",
    "recog = 0\n",
    "start= time.time()\n",
    "fps = cap.get(cv2.CAP_PROP_FPS)\n",
    "\n",
    "img1 = \"pp.jpg\"\n",
    "img2 = \"\"\n",
    "\n",
    "\n",
    "while(cap.isOpened()):\n",
    "    \n",
    "# Extracting Frames\n",
    "    cap.set(1, i)\n",
    "    ret, frame = cap.read()\n",
    "    if ret == False:\n",
    "        break\n",
    "        \n",
    "# Keep checking if the concerned candidate is in the video.\n",
    "        \n",
    "    cv2.imwrite('kang.jpg',frame)\n",
    "    recognition = dfc.find(img_path = 'kang.jpg', db_path = 'facial_db', enforce_detection = False)\n",
    "        \n",
    "    if(recognition.shape[0] == 0 or recognition['VGG-Face_cosine'][0] > 2):\n",
    "        #print(recognition)\n",
    "        print()\n",
    "        \n",
    "        \n",
    "        \n",
    "    if(recognition.shape[0] == 0 or recognition['VGG-Face_cosine'][0] < 2 or len(faces) > 1):\n",
    "        recog += 1\n",
    "        img2 = 'Stored Frames\\\\kang'+str(i)+'.jpg'\n",
    "        cv2.imwrite('Stored Frames\\\\kang'+str(i)+'.jpg',frame)\n",
    "            \n",
    "        verification = dfc.verify(img1_path = img1, img2_path = img2, enforce_detection = False)\n",
    "        \n",
    "        if(verification['verified']):\n",
    "            os.remove(img1)\n",
    "\n",
    "        img1 = 'Stored Frames\\\\kang'+str(i)+'.jpg'\n",
    "\n",
    "# Keep Checking the number of person's infront of the camera.\n",
    "\n",
    "    image = cv2.imread('kang.jpg')\n",
    "    gray = cv2.cvtColor(image, cv2.COLOR_BGR2GRAY)\n",
    "\n",
    "\n",
    "    faceCascade = cv2.CascadeClassifier(cv2.data.haarcascades + \"haarcascade_frontalface_default.xml\")\n",
    "    faces = faceCascade.detectMultiScale(\n",
    "    gray,\n",
    "    scaleFactor=1.3,\n",
    "    minNeighbors=3,\n",
    "    minSize=(30, 30))\n",
    "\n",
    "\n",
    "    print(\"Number of faces\", len(faces))\n",
    "    os.remove('kang.jpg')\n",
    "    i = i + int(fps)*60*5\n",
    "\n",
    "    recognition = np.nan\n",
    "\n",
    "    \n",
    "    \n",
    "# This code will help you to check if the candidates behaviour was proper and Has the test gone smoothly.\n",
    "    \n",
    "if(recog > 3):\n",
    "    print(\"Candidate either had not attended the Test Properly. Or their might be some technical Issue\")\n",
    "    \n",
    "\n",
    "    \n",
    "cap.release()\n",
    "cv2.destroyAllWindows()\n",
    "print(start - time.time())"
   ]
  },
  {
   "cell_type": "code",
   "execution_count": null,
   "id": "46ef46e6",
   "metadata": {},
   "outputs": [],
   "source": []
  }
 ],
 "metadata": {
  "kernelspec": {
   "display_name": "Python 3 (ipykernel)",
   "language": "python",
   "name": "python3"
  },
  "language_info": {
   "codemirror_mode": {
    "name": "ipython",
    "version": 3
   },
   "file_extension": ".py",
   "mimetype": "text/x-python",
   "name": "python",
   "nbconvert_exporter": "python",
   "pygments_lexer": "ipython3",
   "version": "3.8.8"
  }
 },
 "nbformat": 4,
 "nbformat_minor": 5
}
